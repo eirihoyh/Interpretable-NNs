{
 "cells": [
  {
   "cell_type": "code",
   "execution_count": null,
   "metadata": {},
   "outputs": [],
   "source": [
    "import copy\n",
    "import pandas as pd\n",
    "import numpy as np\n",
    "import seaborn as sns\n",
    "import torch\n",
    "import torch.optim as optim\n",
    "from sklearn.model_selection import train_test_split\n",
    "import os\n",
    "import sys\n",
    "from lime.lime_tabular import LimeTabularExplainer\n",
    "import shap\n",
    "import matplotlib.pyplot as plt\n",
    "path='your/path/before/islbbnn/folder'\n",
    "os.chdir(path)\n",
    "current_dir = os.getcwd()\n",
    "sys.path.append('islbbnn')\n",
    "import plot_functions as pf\n",
    "import pipeline_functions as pip_func\n",
    "sys.path.append('islbbnn/networks')\n",
    "import plot_functions as pf\n",
    "import pipeline_functions as pip_func\n",
    "sys.path.append('networks')\n",
    "from lrt_net import BayesianNetwork\n",
    "import torch.nn.functional as F\n",
    "\n",
    "os.chdir(current_dir) # set the working directory back to this one "
   ]
  },
  {
   "cell_type": "code",
   "execution_count": 2,
   "metadata": {},
   "outputs": [],
   "source": [
    "device = torch.device(\"cpu\")"
   ]
  },
  {
   "cell_type": "code",
   "execution_count": 3,
   "metadata": {},
   "outputs": [
    {
     "data": {
      "text/plain": [
       "'/home/eirik/projects/Interpretable-NNs'"
      ]
     },
     "execution_count": 3,
     "metadata": {},
     "output_type": "execute_result"
    }
   ],
   "source": [
    "current_dir"
   ]
  },
  {
   "cell_type": "code",
   "execution_count": 4,
   "metadata": {},
   "outputs": [
    {
     "data": {
      "text/plain": [
       "BayesianNetwork(\n",
       "  (linears): ModuleList(\n",
       "    (0-4): 5 x BayesianLinear()\n",
       "  )\n",
       "  (loss): BCELoss()\n",
       ")"
      ]
     },
     "execution_count": 4,
     "metadata": {},
     "output_type": "execute_result"
    }
   ],
   "source": [
    "net = torch.load('lrt_implementation/network/net7_non_linear', weights_only=False).to(device)\n",
    "net.eval()"
   ]
  },
  {
   "cell_type": "code",
   "execution_count": null,
   "metadata": {},
   "outputs": [
    {
     "data": {
      "text/plain": [
       "BayesianNetwork(\n",
       "  (linears): ModuleList(\n",
       "    (0-4): 5 x BayesianLinear()\n",
       "  )\n",
       "  (loss): BCELoss()\n",
       ")"
      ]
     },
     "execution_count": 47,
     "metadata": {},
     "output_type": "execute_result"
    }
   ],
   "source": [
    "net = torch.load('lrt_implementation/network/net9_linear', weights_only=False).to(device)\n",
    "net.eval()"
   ]
  },
  {
   "cell_type": "code",
   "execution_count": 5,
   "metadata": {},
   "outputs": [],
   "source": [
    "# Get linear data\n",
    "y, X = pip_func.create_data_unif(100, beta=[100,1,1,1,1], dep_level=0.0, classification=True, non_lin=True)\n",
    "\n",
    "data = torch.tensor(np.column_stack((X,y)),dtype = torch.float32)\n",
    "\n",
    "p = X.shape[1]"
   ]
  },
  {
   "cell_type": "code",
   "execution_count": 6,
   "metadata": {},
   "outputs": [
    {
     "name": "stdout",
     "output_type": "stream",
     "text": [
      "62\n",
      "[ 1.         -8.80548703  8.35781581  7.76060301 -4.42553422]\n",
      "69\n",
      "[ 1.          3.70525651 -3.59902676  9.69212256  8.23398882]\n",
      "91\n",
      "[ 1.         -4.57312597  4.44525643  6.76158957 -5.12971422]\n",
      "97\n",
      "[ 1.          5.24007175 -5.06459702  8.62477801 -2.37749392]\n"
     ]
    }
   ],
   "source": [
    "for i in range(100):\n",
    "    # if np.sign(X[i,1]) != np.sign(X[i,2]):\n",
    "    if abs(X[i,1] + X[i,2]) < 0.5:\n",
    "        # if abs(X[i,1]) > 2 and abs(X[i,2]) > 2:\n",
    "        print(i)\n",
    "        print(X[i])"
   ]
  },
  {
   "cell_type": "code",
   "execution_count": 48,
   "metadata": {},
   "outputs": [
    {
     "data": {
      "image/png": "[encoded data removed]",
      "text/plain": [
       "<Figure size 1000x600 with 1 Axes>"
      ]
     },
     "metadata": {},
     "output_type": "display_data"
    }
   ],
   "source": [
    "include_potential_contribution = True\n",
    "i = 62\n",
    "n_samples = 1_000\n",
    "explanation = torch.zeros((n_samples,p))\n",
    "preds = torch.zeros((n_samples,1))\n",
    "for j in range(n_samples):\n",
    "    \n",
    "    # explain_this = data[i,:-1].reshape(-1, p).to(device)\n",
    "    explain_this = torch.tensor([[1.000, 7.00, -8.00, 0.0, 0.0]]).to(device)\n",
    "    explain_this.requires_grad = True\n",
    "    net.zero_grad()\n",
    "    output = net.forward_preact(explain_this, sample=True, ensemble=not True)\n",
    "    output_value = output[0,0]\n",
    "    output_value.backward()\n",
    "\n",
    "    gradients = explain_this.grad\n",
    "    explanation[j] = gradients[0]\n",
    "    preds[j,0] = output[0,0]\n",
    "\n",
    "expl = explanation.cpu().detach().numpy()\n",
    "if include_potential_contribution:\n",
    "    expl = np.where(explain_this != 0.0, expl, -expl)    \n",
    "# remove variables that does not contribute to the prediction at all\n",
    "else:\n",
    "    expl = np.where(explain_this != 0.0, expl, 0)\n",
    "\n",
    "magnitude = False\n",
    "if not magnitude:\n",
    "    expl = expl*explain_this.cpu().detach().numpy()\n",
    "# expl = explanation.cpu().detach().numpy()\n",
    "expl = np.concatenate((expl, preds.cpu().detach().numpy()),1)\n",
    "means = expl.mean(0)\n",
    "\n",
    "variable_names = [\"bias\",\"x1\",\"x2\",\"x3\",\"x4\"]\n",
    "for i, v in enumerate(variable_names):\n",
    "    variable_names[i] = v + f\"={explain_this[0,i].cpu().detach().numpy():.2f}\"\n",
    "\n",
    "variable_names.append(\"Prediction\")\n",
    "\n",
    "\n",
    "cred_int = np.quantile(expl, [0.025,0.975],axis=0).T\n",
    "for indx, err in enumerate(cred_int):\n",
    "    if err[0] == 0 and err[1] == 0:\n",
    "        err[0] = means[indx]\n",
    "        err[1] = means[indx]\n",
    "top = cred_int[:,1]-means\n",
    "bottom = means-cred_int[:,0]\n",
    "# Plot the explanation tensor\n",
    "plt.figure(figsize=(10, 6))\n",
    "plt.bar(range(p+1), means, yerr=(bottom, top), align='center', alpha=0.5, edgecolor='k', capsize=10)\n",
    "plt.xlabel('Input Variable')\n",
    "plt.ylabel('Gradient')\n",
    "plt.title('Explanation of Model')\n",
    "plt.xticks(range(p+1), [f'{variable_names[i]}' for i in range(p+1)], rotation=90)  # Rotate x-axis labels if necessary\n",
    "plt.grid()\n",
    "plt.tight_layout()\n",
    "# plt.savefig(\"imgs/local_explain_grad_based_10.png\")\n",
    "plt.show()"
   ]
  },
  {
   "cell_type": "code",
   "execution_count": 13,
   "metadata": {},
   "outputs": [
    {
     "data": {
      "text/plain": [
       "torch.Size([4])"
      ]
     },
     "execution_count": 13,
     "metadata": {},
     "output_type": "execute_result"
    }
   ],
   "source": [
    "k=torch.tensor([1.000, 7.00, -8.00, 0.0, 0.0])\n",
    "k[:-1].shape"
   ]
  },
  {
   "cell_type": "code",
   "execution_count": 108,
   "metadata": {},
   "outputs": [
    {
     "data": {
      "text/plain": [
       "<module 'plot_functions' from '/home/eirik/projects/Interpretable-NNs/islbbnn/plot_functions.py'>"
      ]
     },
     "execution_count": 108,
     "metadata": {},
     "output_type": "execute_result"
    }
   ],
   "source": [
    "import importlib\n",
    "importlib.reload(pip_func)\n",
    "importlib.reload(pf)"
   ]
  },
  {
   "cell_type": "code",
   "execution_count": 170,
   "metadata": {},
   "outputs": [],
   "source": [
    "sns.reset_orig()\n",
    "plt.clf()\n",
    "plt.close()"
   ]
  },
  {
   "cell_type": "code",
   "execution_count": 180,
   "metadata": {},
   "outputs": [
    {
     "data": {
      "text/plain": [
       "BayesianNetwork(\n",
       "  (linears): ModuleList(\n",
       "    (0-4): 5 x BayesianLinear()\n",
       "  )\n",
       "  (loss): BCELoss()\n",
       ")"
      ]
     },
     "execution_count": 180,
     "metadata": {},
     "output_type": "execute_result"
    }
   ],
   "source": [
    "net = torch.load('lrt_implementation/network/net9_linear', weights_only=False).to(device)\n",
    "net.eval()"
   ]
  },
  {
   "cell_type": "code",
   "execution_count": 182,
   "metadata": {},
   "outputs": [
    {
     "data": {
      "image/png": "[encoded data removed]",
      "text/plain": [
       "<Figure size 1000x400 with 1 Axes>"
      ]
     },
     "metadata": {},
     "output_type": "display_data"
    }
   ],
   "source": [
    "pf.plot_local_explain_piecewise_linear_act(net, torch.tensor([1.000, 5.50, -5.50, 10.0, -50.0]), n_samples=1000, magnitude=True, include_prediction=True, include_bias=True, fig_size=(10,4), no_zero_contributions=True, save_path=\"lrt_implementation/local_contributions/imgs/local_contribution_linear.png\")"
   ]
  },
  {
   "cell_type": "code",
   "execution_count": 183,
   "metadata": {},
   "outputs": [
    {
     "data": {
      "text/plain": [
       "BayesianNetwork(\n",
       "  (linears): ModuleList(\n",
       "    (0-4): 5 x BayesianLinear()\n",
       "  )\n",
       "  (loss): BCELoss()\n",
       ")"
      ]
     },
     "execution_count": 183,
     "metadata": {},
     "output_type": "execute_result"
    }
   ],
   "source": [
    "net = torch.load('lrt_implementation/network/net7_non_linear', weights_only=False).to(device)\n",
    "net.eval()"
   ]
  },
  {
   "cell_type": "code",
   "execution_count": 184,
   "metadata": {},
   "outputs": [
    {
     "data": {
      "image/png": "[encoded data removed]",
      "text/plain": [
       "<Figure size 1000x400 with 1 Axes>"
      ]
     },
     "metadata": {},
     "output_type": "display_data"
    }
   ],
   "source": [
    "pf.plot_local_explain_piecewise_linear_act(net, torch.tensor([1.000, 5.50, -5.50, 10.0, -50.0]), n_samples=1000, magnitude=True, include_prediction=True, include_bias=False, fig_size=(10,4), no_zero_contributions=True, save_path=\"lrt_implementation/local_contributions/imgs/local_contribution_non_linear.png\")"
   ]
  },
  {
   "cell_type": "code",
   "execution_count": 52,
   "metadata": {},
   "outputs": [
    {
     "data": {
      "text/plain": [
       "10000"
      ]
     },
     "execution_count": 52,
     "metadata": {},
     "output_type": "execute_result"
    }
   ],
   "source": [
    "100*100"
   ]
  },
  {
   "cell_type": "code",
   "execution_count": 60,
   "metadata": {},
   "outputs": [
    {
     "data": {
      "text/plain": [
       "array([0, 3, 4])"
      ]
     },
     "execution_count": 60,
     "metadata": {},
     "output_type": "execute_result"
    }
   ],
   "source": [
    "np.unique(np.where(contributions[1] == 0)[1])"
   ]
  },
  {
   "cell_type": "code",
   "execution_count": 157,
   "metadata": {},
   "outputs": [
    {
     "data": {
      "text/plain": [
       "BayesianNetwork(\n",
       "  (linears): ModuleList(\n",
       "    (0-4): 5 x BayesianLinear()\n",
       "  )\n",
       "  (loss): BCELoss()\n",
       ")"
      ]
     },
     "execution_count": 157,
     "metadata": {},
     "output_type": "execute_result"
    }
   ],
   "source": [
    "net = torch.load('lrt_implementation/network/net9_linear', weights_only=False).to(device)\n",
    "net.eval()"
   ]
  },
  {
   "cell_type": "code",
   "execution_count": 158,
   "metadata": {},
   "outputs": [],
   "source": [
    "y, X = pip_func.create_data_unif(100, beta=[100,1,1,1,1], dep_level=0.0, classification=True, non_lin=True)\n",
    "\n",
    "data = torch.tensor(X,dtype = torch.float32)\n",
    "\n",
    "contributions_lin = np.zeros((len(X), 100, 5))\n",
    "\n",
    "for ind, d in enumerate(data):\n",
    "    expl, _, _ = pip_func.local_explain_piecewise_linear_act(net, d, n_samples=100)\n",
    "    contributions_lin[ind] = expl"
   ]
  },
  {
   "cell_type": "code",
   "execution_count": 165,
   "metadata": {},
   "outputs": [
    {
     "data": {
      "text/plain": [
       "'/home/eirik/projects/Interpretable-NNs'"
      ]
     },
     "execution_count": 165,
     "metadata": {},
     "output_type": "execute_result"
    }
   ],
   "source": [
    "current_dir"
   ]
  },
  {
   "cell_type": "code",
   "execution_count": 166,
   "metadata": {},
   "outputs": [
    {
     "data": {
      "image/png": "[encoded data removed]",
      "text/plain": [
       "<Figure size 1000x400 with 1 Axes>"
      ]
     },
     "metadata": {},
     "output_type": "display_data"
    }
   ],
   "source": [
    "df = pd.DataFrame(contributions_lin.reshape(100*100,-1), columns=[\"x0\",\"x1\",\"x2\",\"x3\",\"x4\"])\n",
    "plt.figure(figsize=(10,4))\n",
    "sns.violinplot(df.iloc[:,[1,2]])\n",
    "plt.savefig(\"lrt_implementation/local_contributions/imgs/global_explain_linear.png\")\n",
    "plt.show()"
   ]
  },
  {
   "cell_type": "code",
   "execution_count": 138,
   "metadata": {},
   "outputs": [
    {
     "data": {
      "text/plain": [
       "BayesianNetwork(\n",
       "  (linears): ModuleList(\n",
       "    (0-4): 5 x BayesianLinear()\n",
       "  )\n",
       "  (loss): BCELoss()\n",
       ")"
      ]
     },
     "execution_count": 138,
     "metadata": {},
     "output_type": "execute_result"
    }
   ],
   "source": [
    "net = torch.load('lrt_implementation/network/net7_non_linear', weights_only=False).to(device)\n",
    "net.eval()"
   ]
  },
  {
   "cell_type": "code",
   "execution_count": 139,
   "metadata": {},
   "outputs": [],
   "source": [
    "y, X = pip_func.create_data_unif(1000, beta=[100,1,1,1,1], dep_level=0.0, classification=True, non_lin=True)\n",
    "\n",
    "data = torch.tensor(X,dtype = torch.float32)\n",
    "\n",
    "contributions_non_lin = np.zeros((len(X), 100, 5))\n",
    "\n",
    "for ind, d in enumerate(data):\n",
    "    expl, _, _ = pip_func.local_explain_piecewise_linear_act(net, d, n_samples=100)\n",
    "    contributions_non_lin[ind] = expl"
   ]
  },
  {
   "cell_type": "code",
   "execution_count": 167,
   "metadata": {},
   "outputs": [
    {
     "data": {
      "image/png": "[encoded data removed]",
      "text/plain": [
       "<Figure size 1000x400 with 1 Axes>"
      ]
     },
     "metadata": {},
     "output_type": "display_data"
    }
   ],
   "source": [
    "df = pd.DataFrame(contributions_non_lin.reshape(1000*100,-1), columns=[\"x0\",\"x1\",\"x2\",\"x3\",\"x4\"])\n",
    "plt.figure(figsize=(10,4))\n",
    "sns.set(style=\"whitegrid\")\n",
    "sns.violinplot(df.iloc[:,[1,2]])\n",
    "plt.savefig(\"lrt_implementation/local_contributions/imgs/global_explain_non_linear.png\")\n",
    "plt.show()"
   ]
  },
  {
   "cell_type": "code",
   "execution_count": null,
   "metadata": {},
   "outputs": [],
   "source": []
  },
  {
   "cell_type": "code",
   "execution_count": null,
   "metadata": {},
   "outputs": [],
   "source": []
  },
  {
   "cell_type": "code",
   "execution_count": 54,
   "metadata": {},
   "outputs": [
    {
     "data": {
      "text/plain": [
       "array([[[0.        , 7.21599436, 7.21853352, 0.        , 0.        ],\n",
       "        [0.        , 7.24085951, 7.2228756 , 0.        , 0.        ],\n",
       "        [0.        , 7.23493862, 7.24101305, 0.        , 0.        ],\n",
       "        ...,\n",
       "        [0.        , 7.21935511, 7.21374989, 0.        , 0.        ],\n",
       "        [0.        , 7.22766924, 7.23874521, 0.        , 0.        ],\n",
       "        [0.        , 7.23274994, 7.22771883, 0.        , 0.        ]],\n",
       "\n",
       "       [[0.        , 7.24449396, 7.22017908, 0.        , 0.        ],\n",
       "        [0.        , 7.21926594, 7.20990276, 0.        , 0.        ],\n",
       "        [0.        , 7.22609234, 7.22992516, 0.        , 0.        ],\n",
       "        ...,\n",
       "        [0.        , 7.21469975, 7.22805023, 0.        , 0.        ],\n",
       "        [0.        , 7.24750757, 7.23855114, 0.        , 0.        ],\n",
       "        [0.        , 7.21064663, 7.20616102, 0.        , 0.        ]],\n",
       "\n",
       "       [[0.        , 7.22003937, 7.22817564, 0.        , 0.        ],\n",
       "        [0.        , 7.22385645, 7.23842525, 0.        , 0.        ],\n",
       "        [0.        , 7.24243975, 7.24180222, 0.        , 0.        ],\n",
       "        ...,\n",
       "        [0.        , 7.24526596, 7.229321  , 0.        , 0.        ],\n",
       "        [0.        , 7.22930527, 7.21954918, 0.        , 0.        ],\n",
       "        [0.        , 7.20935535, 7.21815109, 0.        , 0.        ]],\n",
       "\n",
       "       ...,\n",
       "\n",
       "       [[0.        , 7.21126652, 7.22865629, 0.        , 0.        ],\n",
       "        [0.        , 7.21486044, 7.20506954, 0.        , 0.        ],\n",
       "        [0.        , 7.23563576, 7.23140526, 0.        , 0.        ],\n",
       "        ...,\n",
       "        [0.        , 7.23653793, 7.244452  , 0.        , 0.        ],\n",
       "        [0.        , 7.22241354, 7.24186516, 0.        , 0.        ],\n",
       "        [0.        , 7.21771574, 7.22912169, 0.        , 0.        ]],\n",
       "\n",
       "       [[0.        , 7.25898647, 7.21257305, 0.        , 0.        ],\n",
       "        [0.        , 7.24041462, 7.23299265, 0.        , 0.        ],\n",
       "        [0.        , 7.23023653, 7.21605158, 0.        , 0.        ],\n",
       "        ...,\n",
       "        [0.        , 7.22612476, 7.1984539 , 0.        , 0.        ],\n",
       "        [0.        , 7.23117828, 7.23811007, 0.        , 0.        ],\n",
       "        [0.        , 7.23507214, 7.24269676, 0.        , 0.        ]],\n",
       "\n",
       "       [[0.        , 7.22155571, 7.22087145, 0.        , 0.        ],\n",
       "        [0.        , 7.24121761, 7.23810863, 0.        , 0.        ],\n",
       "        [0.        , 7.23849249, 7.22010374, 0.        , 0.        ],\n",
       "        ...,\n",
       "        [0.        , 7.25012827, 7.19100809, 0.        , 0.        ],\n",
       "        [0.        , 7.25383186, 7.24875927, 0.        , 0.        ],\n",
       "        [0.        , 7.21449137, 7.23827553, 0.        , 0.        ]]])"
      ]
     },
     "execution_count": 54,
     "metadata": {},
     "output_type": "execute_result"
    }
   ],
   "source": [
    "contributions"
   ]
  },
  {
   "cell_type": "code",
   "execution_count": null,
   "metadata": {},
   "outputs": [],
   "source": []
  },
  {
   "cell_type": "code",
   "execution_count": null,
   "metadata": {},
   "outputs": [],
   "source": []
  },
  {
   "cell_type": "code",
   "execution_count": 68,
   "metadata": {},
   "outputs": [
    {
     "data": {
      "text/plain": [
       "tensor([[6.9358],\n",
       "        [6.9238],\n",
       "        [6.9424],\n",
       "        [6.9370],\n",
       "        [6.9341],\n",
       "        [6.9341],\n",
       "        [6.9451],\n",
       "        [6.9295],\n",
       "        [6.9170],\n",
       "        [6.9238]], grad_fn=<CopySlices>)"
      ]
     },
     "execution_count": 68,
     "metadata": {},
     "output_type": "execute_result"
    }
   ],
   "source": [
    "preds"
   ]
  },
  {
   "cell_type": "code",
   "execution_count": 28,
   "metadata": {},
   "outputs": [
    {
     "data": {
      "image/png": "[encoded data removed]",
      "text/plain": [
       "<Figure size 1000x400 with 1 Axes>"
      ]
     },
     "metadata": {},
     "output_type": "display_data"
    }
   ],
   "source": [
    "# remove variables that does not contribute to the prediction at all\n",
    "expl = np.where(explain_this[0].cpu().detach().numpy() != 0.0, explanation.cpu().detach().numpy(), 0)\n",
    "means = expl.mean(0)\n",
    "\n",
    "cred_int = np.quantile(expl, [0.025,0.975],axis=0).T\n",
    "for indx, err in enumerate(cred_int):\n",
    "    if err[0] == 0 and err[1] == 0:\n",
    "        err[0] = means[indx]\n",
    "        err[1] = means[indx]\n",
    "top = cred_int[:,1]-means\n",
    "bottom = means-cred_int[:,0]\n",
    "# Plot the explanation tensor\n",
    "plt.figure(figsize=(10, 4))\n",
    "plt.bar(range(p), means, yerr=(bottom, top), align='center', alpha=0.5, edgecolor='k', capsize=10)\n",
    "plt.xlabel('Input Variable')\n",
    "plt.ylabel('Gradient')\n",
    "plt.title('Explanation of Model')\n",
    "plt.xticks(range(p), [f'{variable_names[i]}' for i in range(p)], rotation=90)  # Rotate x-axis labels if necessary\n",
    "plt.grid()\n",
    "plt.tight_layout()\n",
    "# plt.savefig(\"imgs/local_explain_grad_based_10.png\")\n",
    "plt.show()"
   ]
  },
  {
   "cell_type": "code",
   "execution_count": 103,
   "metadata": {},
   "outputs": [
    {
     "data": {
      "text/plain": [
       "array([[0.02188887, 0.01512943, 0.01187757, 0.01503273, 0.01555743,\n",
       "        0.01561086, 0.01515844, 0.01552953, 0.0159459 , 0.01547191,\n",
       "        0.01571276, 0.02574414, 0.01545535, 0.01517179, 0.01525578,\n",
       "        0.01593553, 0.01582979, 0.01553596, 0.0154198 , 0.01566172,\n",
       "        0.04404695, 0.00729938, 0.00764143, 0.00755654, 0.00757098]],\n",
       "      dtype=float32)"
      ]
     },
     "execution_count": 103,
     "metadata": {},
     "output_type": "execute_result"
    }
   ],
   "source": [
    "pip_func.weight_matrices_std_numpy(net)[-1]"
   ]
  },
  {
   "cell_type": "code",
   "execution_count": 9,
   "metadata": {},
   "outputs": [
    {
     "data": {
      "text/plain": [
       "tensor([[ 1.0000e+00,  3.4732e+00, -5.7612e+00,  3.0403e-01, -5.9971e+00,\n",
       "          0.0000e+00],\n",
       "        [ 1.0000e+00,  6.1607e+00, -7.3755e+00, -3.7471e+00, -7.3590e+00,\n",
       "          0.0000e+00],\n",
       "        [ 1.0000e+00, -6.6109e+00,  1.0966e+00,  2.2818e+00,  2.0097e+00,\n",
       "          0.0000e+00],\n",
       "        [ 1.0000e+00, -7.5522e+00,  2.4330e+00,  6.2530e+00, -5.1050e+00,\n",
       "          0.0000e+00],\n",
       "        [ 1.0000e+00,  1.5693e+00, -6.7216e+00,  5.8441e+00, -5.6220e+00,\n",
       "          0.0000e+00],\n",
       "        [ 1.0000e+00,  4.7162e+00, -6.1125e-01, -5.6947e+00, -7.3493e+00,\n",
       "          1.0000e+00],\n",
       "        [ 1.0000e+00,  7.1247e+00,  4.6606e+00,  4.5534e+00,  9.3518e+00,\n",
       "          1.0000e+00],\n",
       "        [ 1.0000e+00,  2.6345e+00, -8.1055e+00, -3.4683e+00, -1.2815e+00,\n",
       "          0.0000e+00],\n",
       "        [ 1.0000e+00, -2.0156e+00, -6.7387e+00,  9.7308e-01, -8.6160e+00,\n",
       "          0.0000e+00],\n",
       "        [ 1.0000e+00, -8.3537e+00, -9.8720e+00,  6.9756e+00,  9.8414e+00,\n",
       "          0.0000e+00],\n",
       "        [ 1.0000e+00, -8.4802e+00,  3.2469e+00, -3.4608e-01, -6.3754e+00,\n",
       "          0.0000e+00],\n",
       "        [ 1.0000e+00, -9.7586e+00,  5.2366e+00,  3.3797e-01,  3.0455e+00,\n",
       "          0.0000e+00],\n",
       "        [ 1.0000e+00, -2.4157e+00,  6.7586e-01,  3.9864e+00, -9.1183e+00,\n",
       "          0.0000e+00],\n",
       "        [ 1.0000e+00,  9.9558e+00,  4.2453e+00, -9.5488e+00, -7.8184e+00,\n",
       "          1.0000e+00],\n",
       "        [ 1.0000e+00, -2.8994e+00,  7.9039e+00,  5.6714e+00,  2.3124e-01,\n",
       "          1.0000e+00],\n",
       "        [ 1.0000e+00, -9.8575e+00, -7.6072e-01, -6.8482e-01, -4.3239e+00,\n",
       "          0.0000e+00],\n",
       "        [ 1.0000e+00, -7.4566e+00, -7.0786e+00,  1.0981e+00,  8.1256e+00,\n",
       "          0.0000e+00],\n",
       "        [ 1.0000e+00,  5.5775e+00,  6.7257e+00,  8.7806e+00,  9.8164e+00,\n",
       "          1.0000e+00],\n",
       "        [ 1.0000e+00, -8.5752e+00, -9.5073e+00, -1.0356e+00,  9.4997e+00,\n",
       "          0.0000e+00],\n",
       "        [ 1.0000e+00, -7.7720e+00,  5.4129e+00,  2.4693e+00, -5.7738e+00,\n",
       "          0.0000e+00],\n",
       "        [ 1.0000e+00, -8.7168e+00,  2.0891e+00, -8.6445e+00, -5.3257e+00,\n",
       "          0.0000e+00],\n",
       "        [ 1.0000e+00, -9.0081e+00,  6.7031e-01,  7.7814e+00,  9.1668e+00,\n",
       "          0.0000e+00],\n",
       "        [ 1.0000e+00, -7.6911e+00,  1.3494e-01, -4.0954e+00,  7.7358e+00,\n",
       "          0.0000e+00],\n",
       "        [ 1.0000e+00,  1.6814e+00, -7.9702e-01,  7.2498e+00, -6.9260e+00,\n",
       "          1.0000e+00],\n",
       "        [ 1.0000e+00,  1.1089e+00,  1.5230e+00,  8.2279e+00,  3.6655e+00,\n",
       "          1.0000e+00],\n",
       "        [ 1.0000e+00, -4.4904e+00, -3.9963e+00, -7.1460e+00, -1.2760e+00,\n",
       "          0.0000e+00],\n",
       "        [ 1.0000e+00, -5.0054e+00, -4.4485e+00,  5.7016e+00,  3.4634e+00,\n",
       "          0.0000e+00],\n",
       "        [ 1.0000e+00,  5.8328e+00,  3.7645e+00,  9.6650e+00,  8.6768e+00,\n",
       "          1.0000e+00],\n",
       "        [ 1.0000e+00,  6.3727e+00,  6.6964e+00,  9.4626e+00, -4.6844e+00,\n",
       "          1.0000e+00],\n",
       "        [ 1.0000e+00,  2.9669e+00,  6.4500e+00,  9.5728e+00,  4.7996e+00,\n",
       "          1.0000e+00],\n",
       "        [ 1.0000e+00,  2.0656e+00,  5.4113e+00, -8.1044e+00,  7.9344e+00,\n",
       "          1.0000e+00],\n",
       "        [ 1.0000e+00,  1.3162e+00, -6.6698e+00,  3.5515e+00, -3.2273e+00,\n",
       "          0.0000e+00],\n",
       "        [ 1.0000e+00,  5.9973e+00, -4.4140e+00,  9.3210e+00, -4.4086e+00,\n",
       "          1.0000e+00],\n",
       "        [ 1.0000e+00,  8.7005e+00, -9.6149e+00,  9.8144e+00,  2.1762e+00,\n",
       "          1.0000e+00],\n",
       "        [ 1.0000e+00, -7.4257e+00,  7.5605e+00,  8.0305e+00,  6.5868e+00,\n",
       "          1.0000e+00],\n",
       "        [ 1.0000e+00,  9.7349e+00,  2.3924e+00,  6.7722e+00, -3.6500e+00,\n",
       "          1.0000e+00],\n",
       "        [ 1.0000e+00, -6.6294e+00,  4.1626e+00,  7.3601e+00,  4.7433e+00,\n",
       "          0.0000e+00],\n",
       "        [ 1.0000e+00,  8.8303e+00, -1.4835e+00, -6.7631e+00, -6.8544e+00,\n",
       "          1.0000e+00],\n",
       "        [ 1.0000e+00,  8.2239e-01, -7.7654e+00,  2.8951e+00, -9.3433e+00,\n",
       "          0.0000e+00],\n",
       "        [ 1.0000e+00, -7.3820e-02, -6.4399e+00, -4.8131e+00,  8.8822e+00,\n",
       "          0.0000e+00],\n",
       "        [ 1.0000e+00, -5.3797e+00,  2.5471e-01, -7.7030e+00,  7.8298e+00,\n",
       "          0.0000e+00],\n",
       "        [ 1.0000e+00,  2.6298e+00,  4.3933e-01,  5.6303e+00, -6.1660e+00,\n",
       "          1.0000e+00],\n",
       "        [ 1.0000e+00,  3.4911e+00,  5.6181e+00, -2.5971e+00, -4.8021e-01,\n",
       "          1.0000e+00],\n",
       "        [ 1.0000e+00,  8.9045e+00, -2.2794e+00, -5.6170e+00,  9.5325e+00,\n",
       "          1.0000e+00],\n",
       "        [ 1.0000e+00, -3.4904e+00, -4.9812e+00,  3.7711e+00, -6.4158e+00,\n",
       "          0.0000e+00],\n",
       "        [ 1.0000e+00, -8.5975e-01, -9.9119e+00, -6.9536e+00, -9.7580e+00,\n",
       "          0.0000e+00],\n",
       "        [ 1.0000e+00, -8.1045e+00, -4.2767e+00,  6.8530e+00, -4.7919e+00,\n",
       "          0.0000e+00],\n",
       "        [ 1.0000e+00,  2.7634e+00, -7.6486e-01,  7.8708e+00, -1.4438e+00,\n",
       "          1.0000e+00],\n",
       "        [ 1.0000e+00,  9.6000e+00,  2.9922e+00, -4.2444e+00,  7.1111e+00,\n",
       "          1.0000e+00],\n",
       "        [ 1.0000e+00,  4.1095e+00, -9.2996e-01, -3.7610e+00, -6.0637e+00,\n",
       "          1.0000e+00],\n",
       "        [ 1.0000e+00, -1.2756e+00,  9.2982e+00, -1.8597e-01,  6.1428e+00,\n",
       "          1.0000e+00],\n",
       "        [ 1.0000e+00, -4.5460e+00,  8.9835e+00,  1.5193e+00, -2.8423e+00,\n",
       "          1.0000e+00],\n",
       "        [ 1.0000e+00,  1.5087e+00,  7.4229e+00,  2.6576e+00, -7.9187e+00,\n",
       "          1.0000e+00],\n",
       "        [ 1.0000e+00, -8.0672e+00,  7.0926e+00, -2.5079e+00,  2.7142e+00,\n",
       "          0.0000e+00],\n",
       "        [ 1.0000e+00,  9.6457e+00,  8.1022e+00,  3.7524e+00,  9.6979e+00,\n",
       "          1.0000e+00],\n",
       "        [ 1.0000e+00, -4.9162e+00,  4.5851e+00, -3.4738e+00,  7.3974e+00,\n",
       "          1.0000e+00],\n",
       "        [ 1.0000e+00, -3.7571e+00, -2.5333e+00, -1.5851e-01, -4.2160e+00,\n",
       "          0.0000e+00],\n",
       "        [ 1.0000e+00, -5.2648e+00,  7.4995e+00, -4.4630e+00,  9.8905e+00,\n",
       "          1.0000e+00],\n",
       "        [ 1.0000e+00, -2.1677e+00,  7.7510e-01,  2.4578e+00, -6.6141e+00,\n",
       "          0.0000e+00],\n",
       "        [ 1.0000e+00,  1.6234e+00, -1.7108e+00, -4.6421e+00, -5.1465e+00,\n",
       "          1.0000e+00],\n",
       "        [ 1.0000e+00, -7.5514e+00,  7.2954e+00, -5.5616e+00,  5.9029e+00,\n",
       "          1.0000e+00],\n",
       "        [ 1.0000e+00,  4.3527e+00, -5.9354e+00, -5.3264e+00,  4.5846e+00,\n",
       "          0.0000e+00],\n",
       "        [ 1.0000e+00, -4.9116e+00,  5.6487e-01, -3.2564e+00,  1.8785e+00,\n",
       "          0.0000e+00],\n",
       "        [ 1.0000e+00, -7.5187e+00, -9.4437e+00,  6.2412e+00,  1.9629e+00,\n",
       "          0.0000e+00],\n",
       "        [ 1.0000e+00,  2.3260e+00, -5.3131e+00,  8.3157e-02,  8.4300e+00,\n",
       "          0.0000e+00],\n",
       "        [ 1.0000e+00, -9.4339e+00, -4.2947e+00, -1.8594e+00,  8.8743e-01,\n",
       "          0.0000e+00],\n",
       "        [ 1.0000e+00,  1.9963e+00, -5.9382e+00,  4.1210e+00,  4.0440e+00,\n",
       "          0.0000e+00],\n",
       "        [ 1.0000e+00,  8.7009e+00, -5.7342e+00, -6.8783e+00, -3.1512e+00,\n",
       "          1.0000e+00],\n",
       "        [ 1.0000e+00, -2.9753e+00,  8.4167e+00,  4.6172e-02, -8.4680e+00,\n",
       "          1.0000e+00],\n",
       "        [ 1.0000e+00,  8.4264e+00, -3.8999e+00,  3.8235e+00,  1.6595e+00,\n",
       "          1.0000e+00],\n",
       "        [ 1.0000e+00, -3.2103e+00,  4.8563e-01,  8.2735e+00, -4.8603e+00,\n",
       "          0.0000e+00],\n",
       "        [ 1.0000e+00, -8.0449e+00, -6.6082e+00,  2.3085e+00,  6.3585e+00,\n",
       "          0.0000e+00],\n",
       "        [ 1.0000e+00, -7.1861e+00,  1.6016e+00,  5.8781e+00, -5.7231e+00,\n",
       "          0.0000e+00],\n",
       "        [ 1.0000e+00,  6.3169e+00, -6.9364e+00, -3.1034e+00, -2.2873e+00,\n",
       "          1.0000e+00],\n",
       "        [ 1.0000e+00,  9.4726e+00,  5.1572e+00,  3.1290e+00,  6.8035e+00,\n",
       "          1.0000e+00],\n",
       "        [ 1.0000e+00, -7.7940e+00, -8.9508e+00,  3.0073e+00, -3.6427e+00,\n",
       "          0.0000e+00],\n",
       "        [ 1.0000e+00,  8.6034e-01,  4.6376e+00, -8.4468e+00, -7.4382e-01,\n",
       "          1.0000e+00],\n",
       "        [ 1.0000e+00, -5.6975e+00,  8.3974e+00,  5.6582e+00, -5.6892e+00,\n",
       "          1.0000e+00],\n",
       "        [ 1.0000e+00, -9.7119e+00,  5.4418e-01,  7.2849e+00, -2.1478e+00,\n",
       "          0.0000e+00],\n",
       "        [ 1.0000e+00, -7.4876e+00,  7.5413e+00, -2.1004e-01, -6.7031e+00,\n",
       "          1.0000e+00],\n",
       "        [ 1.0000e+00,  3.1633e+00,  2.6680e+00,  7.6763e+00, -8.1379e+00,\n",
       "          1.0000e+00],\n",
       "        [ 1.0000e+00, -3.1667e+00, -6.2455e-02,  9.6896e+00,  5.5054e+00,\n",
       "          0.0000e+00],\n",
       "        [ 1.0000e+00, -7.7101e+00, -1.1474e+00, -4.3306e-01, -3.0333e+00,\n",
       "          0.0000e+00],\n",
       "        [ 1.0000e+00, -6.3573e+00,  1.0329e+00, -4.7925e+00, -1.0175e+00,\n",
       "          0.0000e+00],\n",
       "        [ 1.0000e+00, -5.1304e+00,  6.4967e+00,  1.7067e+00,  6.3910e+00,\n",
       "          1.0000e+00],\n",
       "        [ 1.0000e+00, -2.5340e-01,  6.3453e+00,  3.4710e+00, -8.7806e+00,\n",
       "          1.0000e+00],\n",
       "        [ 1.0000e+00,  6.3784e+00,  2.9395e+00,  4.9202e+00,  3.7694e+00,\n",
       "          1.0000e+00],\n",
       "        [ 1.0000e+00, -4.0125e-03,  9.7289e+00,  9.3003e+00,  4.2951e-01,\n",
       "          1.0000e+00],\n",
       "        [ 1.0000e+00,  2.1418e+00,  1.9562e+00,  3.1144e+00,  9.6327e+00,\n",
       "          1.0000e+00],\n",
       "        [ 1.0000e+00,  9.4051e+00,  1.1416e+00, -9.6536e+00, -6.0369e+00,\n",
       "          1.0000e+00],\n",
       "        [ 1.0000e+00, -3.7946e+00,  6.3033e+00, -2.0038e+00,  5.9921e+00,\n",
       "          1.0000e+00],\n",
       "        [ 1.0000e+00, -7.9746e+00,  4.0690e+00, -5.4832e+00,  8.3292e+00,\n",
       "          0.0000e+00],\n",
       "        [ 1.0000e+00, -6.3952e+00, -1.4342e+00, -6.1364e+00, -6.4785e-01,\n",
       "          0.0000e+00],\n",
       "        [ 1.0000e+00, -2.6279e-01, -4.1920e+00,  9.4958e+00,  3.1556e+00,\n",
       "          0.0000e+00],\n",
       "        [ 1.0000e+00, -1.4683e-01, -2.3579e+00, -5.2092e+00,  8.9035e+00,\n",
       "          0.0000e+00],\n",
       "        [ 1.0000e+00,  7.7770e+00,  6.5443e+00,  4.5724e+00,  8.1598e+00,\n",
       "          1.0000e+00],\n",
       "        [ 1.0000e+00, -1.8203e+00,  3.8156e+00,  9.7565e+00,  6.0223e+00,\n",
       "          1.0000e+00],\n",
       "        [ 1.0000e+00, -5.7663e-02,  7.5661e+00, -2.0077e+00, -2.7494e-02,\n",
       "          1.0000e+00],\n",
       "        [ 1.0000e+00, -8.2561e+00,  3.4464e+00,  3.2999e+00, -2.1620e+00,\n",
       "          0.0000e+00],\n",
       "        [ 1.0000e+00,  1.4346e+00,  7.0518e+00,  2.6656e+00, -4.4099e+00,\n",
       "          1.0000e+00]])"
      ]
     },
     "execution_count": 9,
     "metadata": {},
     "output_type": "execute_result"
    }
   ],
   "source": [
    "data"
   ]
  },
  {
   "cell_type": "markdown",
   "metadata": {},
   "source": [
    "## LIME and SHAP code\n",
    "\n",
    "Used to compare the methods."
   ]
  },
  {
   "cell_type": "markdown",
   "metadata": {},
   "source": [
    "### LIME"
   ]
  },
  {
   "cell_type": "code",
   "execution_count": null,
   "metadata": {},
   "outputs": [],
   "source": [
    "# Assuming `net` is your trained PyTorch model and `DEVICE` is your computation device (e.g., 'cpu' or 'cuda')\n",
    "\n",
    "def batch_predict_lime(x):\n",
    "    net.eval()\n",
    "    x = torch.tensor(x, dtype=torch.float32).to(DEVICE)\n",
    "    if len(x.shape) == 1:\n",
    "        preds = np.zeros((1000, 1, 1))\n",
    "    else:\n",
    "        preds = np.zeros((1000, len(x), 1))\n",
    "    with torch.no_grad():\n",
    "        for samp in range(len(preds)):\n",
    "            preds[samp, :, 0] = net.forward(x, ensemble=False, sample=True).detach().cpu().numpy().T[0]\n",
    "            # preds[samp, :, 0] = 1 - preds[samp, :, 1]\n",
    "    preds = preds.mean(0)\n",
    "    return preds\n",
    "\n",
    "def explain_lime(indx, X_test, feature_names=variable_names, class_names=[\"rings\"]):\n",
    "    # Assuming `X_train` is your training data and `class_names` are the names of the classes\n",
    "    explainer = LimeTabularExplainer(\n",
    "        training_data=X_train,\n",
    "        feature_names=feature_names,\n",
    "        class_names=class_names,\n",
    "        mode='regression'\n",
    "    )\n",
    "    # Explain a single instance\n",
    "    exp = explainer.explain_instance(\n",
    "        data_row=X_test[indx],\n",
    "        predict_fn=batch_predict_lime,\n",
    "        num_features=len(variable_names),  # Number of features to include in the explanation\n",
    "        num_samples=2_000\n",
    "    )\n",
    "    return exp\n",
    "\n",
    "\n",
    "def plot_lime_explain(exp, indx, class_label=1, names_features=variable_names):\n",
    "    # Extract feature importances for a specific class\n",
    "    feature_importances = dict(exp.as_map()[class_label])\n",
    "\n",
    "    # Ensure the feature importances are in the correct order\n",
    "    ordered_importances = [feature_importances[indx] for indx in range(len(names_features))]\n",
    "\n",
    "    # Create a bar plot\n",
    "    plt.figure(figsize=(10, 6))\n",
    "    plt.bar(names_features, ordered_importances, color='skyblue', edgecolor='k')\n",
    "    plt.ylabel('LIME importance')\n",
    "    plt.xlabel('Feature')\n",
    "    plt.title(f'LIME feature importances for Class {class_label} (instance {indx})')\n",
    "    plt.xticks(rotation=90)\n",
    "    plt.grid()\n",
    "    plt.show()"
   ]
  },
  {
   "cell_type": "markdown",
   "metadata": {},
   "source": [
    "### SHAP"
   ]
  },
  {
   "cell_type": "code",
   "execution_count": null,
   "metadata": {},
   "outputs": [],
   "source": [
    "# Assuming `net` is your trained PyTorch model and `DEVICE` is your computation device (e.g., 'cpu' or 'cuda')\n",
    "\n",
    "def batch_predict_shap(x):\n",
    "    net.eval()\n",
    "    x = torch.tensor(x, dtype=torch.float32).to(DEVICE)\n",
    "    preds = np.zeros((1000, len(x), 1))\n",
    "    with torch.no_grad():\n",
    "        for samp in range(len(preds)):\n",
    "            preds[samp, :, 0] = net.forward(x, ensemble=False, sample=True).detach().cpu().numpy().T[0]\n",
    "    preds = preds.mean(0)\n",
    "    return preds\n",
    "\n",
    "\n",
    "def shap_explain(X_test, i):\n",
    "    # Create SHAP explainer\n",
    "    explainer = shap.Explainer(batch_predict_shap, X_train)\n",
    "    # Index of the instance you want to explain\n",
    "\n",
    "    # Explain the instance\n",
    "    shap_vals = explainer(X_test[i:i+1], max_evals=1_000, batch_size=256)\n",
    "    return shap_vals\n",
    "\n",
    "def plot_shap_explain(shap_vals, i, feature_names = variable_names):\n",
    "    # Plot bar plot of SHAP values\n",
    "    plt.figure(figsize=(10, 6))\n",
    "    plt.bar(feature_names, shap_vals.values[0], color='skyblue', edgecolor='k')\n",
    "    plt.xlabel('Feature')\n",
    "    plt.ylabel('SHAP value')\n",
    "    plt.title(f'SHAP values for instance {i}. Baseline: {shap_vals.base_values[0][0]:.4f}')\n",
    "    plt.xticks(rotation=90)\n",
    "    plt.grid()\n",
    "    plt.show()"
   ]
  },
  {
   "cell_type": "code",
   "execution_count": null,
   "metadata": {},
   "outputs": [],
   "source": []
  },
  {
   "cell_type": "code",
   "execution_count": 4,
   "metadata": {},
   "outputs": [],
   "source": [
    "import numpy as np\n",
    "my_list = np.array([[ 0.971  , 18.     ],\n",
    " [ 0.97825, 18.     ],\n",
    " [ 0.99425, 48.     ],\n",
    " [ 0.97825, 18.     ],\n",
    " [ 0.98225, 23.     ],\n",
    " [ 0.971  , 18.     ],\n",
    " [ 0.99175, 43.     ],\n",
    " [ 0.9805 , 19.     ],\n",
    " [ 0.9945 , 38.     ],\n",
    " [ 0.985  , 28.     ]])"
   ]
  },
  {
   "cell_type": "code",
   "execution_count": 11,
   "metadata": {},
   "outputs": [
    {
     "data": {
      "text/plain": [
       "(np.float64(0.981375), np.float64(0.971), np.float64(0.9945))"
      ]
     },
     "execution_count": 11,
     "metadata": {},
     "output_type": "execute_result"
    }
   ],
   "source": [
    "np.median(my_list[:,0]), np.min(my_list[:,0]), np.max(my_list[:,0])"
   ]
  },
  {
   "cell_type": "code",
   "execution_count": 12,
   "metadata": {},
   "outputs": [],
   "source": [
    "my_list = np.array([[0.97275,    0.01107692],\n",
    " [0.97825,    0.01107692],\n",
    " [0.99425,    0.02953846],\n",
    " [0.978  ,    0.01107692],\n",
    " [0.98175,    0.01415385],\n",
    " [0.97075,    0.01107692],\n",
    " [0.992  ,    0.02646154],\n",
    " [0.98075,    0.01169231],\n",
    " [0.99375,    0.02338462],\n",
    " [0.9855,     0.01723077]])"
   ]
  },
  {
   "cell_type": "code",
   "execution_count": 13,
   "metadata": {},
   "outputs": [
    {
     "data": {
      "text/plain": [
       "(np.float64(0.01292308), np.float64(0.01107692), np.float64(0.02953846))"
      ]
     },
     "execution_count": 13,
     "metadata": {},
     "output_type": "execute_result"
    }
   ],
   "source": [
    "np.median(my_list[:,1]), np.min(my_list[:,1]), np.max(my_list[:,1])"
   ]
  }
 ],
 "metadata": {
  "kernelspec": {
   "display_name": "limerick2025",
   "language": "python",
   "name": "python3"
  },
  "language_info": {
   "codemirror_mode": {
    "name": "ipython",
    "version": 3
   },
   "file_extension": ".py",
   "mimetype": "text/x-python",
   "name": "python",
   "nbconvert_exporter": "python",
   "pygments_lexer": "ipython3",
   "version": "3.11.2"
  }
 },
 "nbformat": 4,
 "nbformat_minor": 2
}
